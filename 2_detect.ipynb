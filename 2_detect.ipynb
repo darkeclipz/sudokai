{
 "cells": [
  {
   "cell_type": "code",
   "execution_count": 1,
   "metadata": {},
   "outputs": [],
   "source": [
    "import torch\n",
    "import torchvision"
   ]
  },
  {
   "cell_type": "code",
   "execution_count": 2,
   "metadata": {},
   "outputs": [
    {
     "data": {
      "text/plain": [
       "<torch._C.Generator at 0x201ca775030>"
      ]
     },
     "execution_count": 2,
     "metadata": {},
     "output_type": "execute_result"
    }
   ],
   "source": [
    "n_epochs = 3\n",
    "batch_size_train = 64\n",
    "batch_size_test = 1000\n",
    "learning_rate = 0.1\n",
    "momentum = 0.5\n",
    "log_interval = 10\n",
    "\n",
    "random_seed = 1\n",
    "torch.backends.cudnn.enabled = False\n",
    "torch.manual_seed(random_seed)"
   ]
  },
  {
   "cell_type": "code",
   "execution_count": 3,
   "metadata": {},
   "outputs": [
    {
     "name": "stdout",
     "output_type": "stream",
     "text": [
      "Downloading http://yann.lecun.com/exdb/mnist/train-images-idx3-ubyte.gz\n",
      "Downloading http://yann.lecun.com/exdb/mnist/train-images-idx3-ubyte.gz to /files/MNIST\\raw\\train-images-idx3-ubyte.gz\n"
     ]
    },
    {
     "data": {
      "application/vnd.jupyter.widget-view+json": {
       "model_id": "25eda67830dd4d03bfa78da6a6d44c0c",
       "version_major": 2,
       "version_minor": 0
      },
      "text/plain": [
       "  0%|          | 0/9912422 [00:00<?, ?it/s]"
      ]
     },
     "metadata": {},
     "output_type": "display_data"
    },
    {
     "name": "stdout",
     "output_type": "stream",
     "text": [
      "Extracting /files/MNIST\\raw\\train-images-idx3-ubyte.gz to /files/MNIST\\raw\n",
      "\n",
      "Downloading http://yann.lecun.com/exdb/mnist/train-labels-idx1-ubyte.gz\n",
      "Downloading http://yann.lecun.com/exdb/mnist/train-labels-idx1-ubyte.gz to /files/MNIST\\raw\\train-labels-idx1-ubyte.gz\n"
     ]
    },
    {
     "data": {
      "application/vnd.jupyter.widget-view+json": {
       "model_id": "c4d3b6def5c94d8abc764882cf15527b",
       "version_major": 2,
       "version_minor": 0
      },
      "text/plain": [
       "  0%|          | 0/28881 [00:00<?, ?it/s]"
      ]
     },
     "metadata": {},
     "output_type": "display_data"
    },
    {
     "name": "stdout",
     "output_type": "stream",
     "text": [
      "Extracting /files/MNIST\\raw\\train-labels-idx1-ubyte.gz to /files/MNIST\\raw\n",
      "\n",
      "Downloading http://yann.lecun.com/exdb/mnist/t10k-images-idx3-ubyte.gz\n",
      "Downloading http://yann.lecun.com/exdb/mnist/t10k-images-idx3-ubyte.gz to /files/MNIST\\raw\\t10k-images-idx3-ubyte.gz\n"
     ]
    },
    {
     "data": {
      "application/vnd.jupyter.widget-view+json": {
       "model_id": "8fe7491d60a74e58a4cd86b888b79ee4",
       "version_major": 2,
       "version_minor": 0
      },
      "text/plain": [
       "  0%|          | 0/1648877 [00:00<?, ?it/s]"
      ]
     },
     "metadata": {},
     "output_type": "display_data"
    },
    {
     "name": "stdout",
     "output_type": "stream",
     "text": [
      "Extracting /files/MNIST\\raw\\t10k-images-idx3-ubyte.gz to /files/MNIST\\raw\n",
      "\n",
      "Downloading http://yann.lecun.com/exdb/mnist/t10k-labels-idx1-ubyte.gz\n",
      "Downloading http://yann.lecun.com/exdb/mnist/t10k-labels-idx1-ubyte.gz to /files/MNIST\\raw\\t10k-labels-idx1-ubyte.gz\n"
     ]
    },
    {
     "data": {
      "application/vnd.jupyter.widget-view+json": {
       "model_id": "fd231189376146d0b020f059ec5c51ee",
       "version_major": 2,
       "version_minor": 0
      },
      "text/plain": [
       "  0%|          | 0/4542 [00:00<?, ?it/s]"
      ]
     },
     "metadata": {},
     "output_type": "display_data"
    },
    {
     "name": "stdout",
     "output_type": "stream",
     "text": [
      "Extracting /files/MNIST\\raw\\t10k-labels-idx1-ubyte.gz to /files/MNIST\\raw\n",
      "\n"
     ]
    }
   ],
   "source": [
    "train_loader = torch.utils.data.DataLoader(\n",
    "  torchvision.datasets.MNIST('/files/', train=True, download=True,\n",
    "                             transform=torchvision.transforms.Compose([\n",
    "                               torchvision.transforms.ToTensor(),\n",
    "                               torchvision.transforms.Normalize(\n",
    "                                 (0.1307,), (0.3081,))\n",
    "                             ])),\n",
    "  batch_size=batch_size_train, shuffle=True)\n",
    "\n",
    "test_loader = torch.utils.data.DataLoader(\n",
    "  torchvision.datasets.MNIST('/files/', train=False, download=True,\n",
    "                             transform=torchvision.transforms.Compose([\n",
    "                               torchvision.transforms.ToTensor(),\n",
    "                               torchvision.transforms.Normalize(\n",
    "                                 (0.1307,), (0.3081,))\n",
    "                             ])),\n",
    "  batch_size=batch_size_test, shuffle=True)"
   ]
  },
  {
   "cell_type": "code",
   "execution_count": 4,
   "metadata": {},
   "outputs": [],
   "source": [
    "examples = enumerate(test_loader)\n",
    "batch_idx, (example_data, example_targets) = next(examples)"
   ]
  },
  {
   "cell_type": "code",
   "execution_count": 5,
   "metadata": {},
   "outputs": [
    {
     "data": {
      "text/plain": [
       "torch.Size([1000, 1, 28, 28])"
      ]
     },
     "execution_count": 5,
     "metadata": {},
     "output_type": "execute_result"
    }
   ],
   "source": [
    "example_data.shape"
   ]
  },
  {
   "cell_type": "code",
   "execution_count": 6,
   "metadata": {},
   "outputs": [
    {
     "data": {
      "image/png": "[encoded data removed]",
      "text/plain": [
       "<Figure size 432x288 with 6 Axes>"
      ]
     },
     "execution_count": 6,
     "metadata": {},
     "output_type": "execute_result"
    },
    {
     "data": {
      "image/png": "[encoded data removed]",
      "text/plain": [
       "<Figure size 432x288 with 6 Axes>"
      ]
     },
     "metadata": {},
     "output_type": "display_data"
    }
   ],
   "source": [
    "import matplotlib.pyplot as plt\n",
    "\n",
    "fig = plt.figure()\n",
    "for i in range(6):\n",
    "  plt.subplot(2,3,i+1)\n",
    "  plt.tight_layout()\n",
    "  plt.imshow(example_data[i][0], cmap='gray', interpolation='none')\n",
    "  plt.title(\"Ground Truth: {}\".format(example_targets[i]))\n",
    "  plt.xticks([])\n",
    "  plt.yticks([])\n",
    "fig"
   ]
  },
  {
   "cell_type": "code",
   "execution_count": 7,
   "metadata": {},
   "outputs": [],
   "source": [
    "import torch.nn as nn\n",
    "import torch.nn.functional as F\n",
    "import torch.optim as optim"
   ]
  },
  {
   "cell_type": "code",
   "execution_count": 8,
   "metadata": {},
   "outputs": [],
   "source": [
    "class Net(nn.Module):\n",
    "    def __init__(self):\n",
    "        super(Net, self).__init__()\n",
    "        self.conv1 = nn.Conv2d(1, 10, kernel_size=5)\n",
    "        self.conv2 = nn.Conv2d(10, 20, kernel_size=5)\n",
    "        self.conv2_drop = nn.Dropout2d()\n",
    "        self.fc1 = nn.Linear(320, 50)\n",
    "        self.fc2 = nn.Linear(50, 10)\n",
    "\n",
    "    def forward(self, x):\n",
    "        x = F.relu(F.max_pool2d(self.conv1(x), 2))\n",
    "        x = F.relu(F.max_pool2d(self.conv2_drop(self.conv2(x)), 2))\n",
    "        x = x.view(-1, 320)\n",
    "        x = F.relu(self.fc1(x))\n",
    "        x = F.dropout(x, training=self.training)\n",
    "        x = self.fc2(x)\n",
    "        return F.log_softmax(x)"
   ]
  },
  {
   "cell_type": "code",
   "execution_count": 9,
   "metadata": {},
   "outputs": [],
   "source": [
    "network = Net()\n",
    "optimizer = optim.SGD(network.parameters(), lr=learning_rate,\n",
    "                      momentum=momentum)"
   ]
  },
  {
   "cell_type": "code",
   "execution_count": 10,
   "metadata": {},
   "outputs": [],
   "source": [
    "train_losses = []\n",
    "train_counter = []\n",
    "test_losses = []\n",
    "test_counter = [i*len(train_loader.dataset) for i in range(n_epochs + 1)]"
   ]
  },
  {
   "cell_type": "code",
   "execution_count": 15,
   "metadata": {},
   "outputs": [],
   "source": [
    "def train(epoch):\n",
    "  network.train()\n",
    "  for batch_idx, (data, target) in enumerate(train_loader):\n",
    "    optimizer.zero_grad()\n",
    "    output = network(data)\n",
    "    loss = F.nll_loss(output, target)\n",
    "    loss.backward()\n",
    "    optimizer.step()\n",
    "    if batch_idx % log_interval == 0:\n",
    "      print('Train Epoch: {} [{}/{} ({:.0f}%)]\\tLoss: {:.6f}'.format(\n",
    "        epoch, batch_idx * len(data), len(train_loader.dataset),\n",
    "        100. * batch_idx / len(train_loader), loss.item()))\n",
    "      train_losses.append(loss.item())\n",
    "      train_counter.append(\n",
    "        (batch_idx*64) + ((epoch-1)*len(train_loader.dataset)))\n",
    "      torch.save(network.state_dict(), 'results/model.pth')\n",
    "      torch.save(optimizer.state_dict(), 'results/optimizer.pth')"
   ]
  },
  {
   "cell_type": "code",
   "execution_count": 16,
   "metadata": {},
   "outputs": [],
   "source": [
    "def test():\n",
    "  network.eval()\n",
    "  test_loss = 0\n",
    "  correct = 0\n",
    "  with torch.no_grad():\n",
    "    for data, target in test_loader:\n",
    "      output = network(data)\n",
    "      test_loss += F.nll_loss(output, target, size_average=False).item()\n",
    "      pred = output.data.max(1, keepdim=True)[1]\n",
    "      correct += pred.eq(target.data.view_as(pred)).sum()\n",
    "  test_loss /= len(test_loader.dataset)\n",
    "  test_losses.append(test_loss)\n",
    "  print('\\nTest set: Avg. loss: {:.4f}, Accuracy: {}/{} ({:.0f}%)\\n'.format(\n",
    "    test_loss, correct, len(test_loader.dataset),\n",
    "    100. * correct / len(test_loader.dataset)))"
   ]
  },
  {
   "cell_type": "code",
   "execution_count": 26,
   "metadata": {},
   "outputs": [
    {
     "name": "stderr",
     "output_type": "stream",
     "text": [
      "C:\\Users\\larsr\\AppData\\Local\\Temp\\ipykernel_22216\\161431047.py:17: UserWarning: Implicit dimension choice for log_softmax has been deprecated. Change the call to include dim=X as an argument.\n",
      "  return F.log_softmax(x)\n",
      "c:\\Users\\larsr\\AppData\\Local\\Programs\\Python\\Python310\\lib\\site-packages\\torch\\nn\\_reduction.py:42: UserWarning: size_average and reduce args will be deprecated, please use reduction='sum' instead.\n",
      "  warnings.warn(warning.format(ret))\n"
     ]
    },
    {
     "name": "stdout",
     "output_type": "stream",
     "text": [
      "\n",
      "Test set: Avg. loss: 0.0669, Accuracy: 9802/10000 (98%)\n",
      "\n",
      "Train Epoch: 1 [0/60000 (0%)]\tLoss: 0.116237\n",
      "Train Epoch: 1 [640/60000 (1%)]\tLoss: 0.109977\n",
      "Train Epoch: 1 [1280/60000 (2%)]\tLoss: 0.150607\n",
      "Train Epoch: 1 [1920/60000 (3%)]\tLoss: 0.100742\n",
      "Train Epoch: 1 [2560/60000 (4%)]\tLoss: 0.194388\n",
      "Train Epoch: 1 [3200/60000 (5%)]\tLoss: 0.103256\n",
      "Train Epoch: 1 [3840/60000 (6%)]\tLoss: 0.201139\n",
      "Train Epoch: 1 [4480/60000 (7%)]\tLoss: 0.210483\n",
      "Train Epoch: 1 [5120/60000 (9%)]\tLoss: 0.221908\n",
      "Train Epoch: 1 [5760/60000 (10%)]\tLoss: 0.335284\n",
      "Train Epoch: 1 [6400/60000 (11%)]\tLoss: 0.372688\n",
      "Train Epoch: 1 [7040/60000 (12%)]\tLoss: 0.110325\n",
      "Train Epoch: 1 [7680/60000 (13%)]\tLoss: 0.104095\n",
      "Train Epoch: 1 [8320/60000 (14%)]\tLoss: 0.179614\n",
      "Train Epoch: 1 [8960/60000 (15%)]\tLoss: 0.349951\n",
      "Train Epoch: 1 [9600/60000 (16%)]\tLoss: 0.143637\n",
      "Train Epoch: 1 [10240/60000 (17%)]\tLoss: 0.205252\n",
      "Train Epoch: 1 [10880/60000 (18%)]\tLoss: 0.293204\n",
      "Train Epoch: 1 [11520/60000 (19%)]\tLoss: 0.408895\n",
      "Train Epoch: 1 [12160/60000 (20%)]\tLoss: 0.250717\n",
      "Train Epoch: 1 [12800/60000 (21%)]\tLoss: 0.211890\n",
      "Train Epoch: 1 [13440/60000 (22%)]\tLoss: 0.225659\n",
      "Train Epoch: 1 [14080/60000 (23%)]\tLoss: 0.174371\n",
      "Train Epoch: 1 [14720/60000 (25%)]\tLoss: 0.270363\n",
      "Train Epoch: 1 [15360/60000 (26%)]\tLoss: 0.081621\n",
      "Train Epoch: 1 [16000/60000 (27%)]\tLoss: 0.229043\n",
      "Train Epoch: 1 [16640/60000 (28%)]\tLoss: 0.218569\n",
      "Train Epoch: 1 [17280/60000 (29%)]\tLoss: 0.271575\n",
      "Train Epoch: 1 [17920/60000 (30%)]\tLoss: 0.131263\n",
      "Train Epoch: 1 [18560/60000 (31%)]\tLoss: 0.227929\n",
      "Train Epoch: 1 [19200/60000 (32%)]\tLoss: 0.239730\n",
      "Train Epoch: 1 [19840/60000 (33%)]\tLoss: 0.059679\n",
      "Train Epoch: 1 [20480/60000 (34%)]\tLoss: 0.118718\n",
      "Train Epoch: 1 [21120/60000 (35%)]\tLoss: 0.231198\n",
      "Train Epoch: 1 [21760/60000 (36%)]\tLoss: 0.179415\n",
      "Train Epoch: 1 [22400/60000 (37%)]\tLoss: 0.184555\n",
      "Train Epoch: 1 [23040/60000 (38%)]\tLoss: 0.225055\n",
      "Train Epoch: 1 [23680/60000 (39%)]\tLoss: 0.115403\n",
      "Train Epoch: 1 [24320/60000 (41%)]\tLoss: 0.139925\n",
      "Train Epoch: 1 [24960/60000 (42%)]\tLoss: 0.159654\n",
      "Train Epoch: 1 [25600/60000 (43%)]\tLoss: 0.355148\n",
      "Train Epoch: 1 [26240/60000 (44%)]\tLoss: 0.097488\n",
      "Train Epoch: 1 [26880/60000 (45%)]\tLoss: 0.206232\n",
      "Train Epoch: 1 [27520/60000 (46%)]\tLoss: 0.164808\n",
      "Train Epoch: 1 [28160/60000 (47%)]\tLoss: 0.168579\n",
      "Train Epoch: 1 [28800/60000 (48%)]\tLoss: 0.119574\n",
      "Train Epoch: 1 [29440/60000 (49%)]\tLoss: 0.225966\n",
      "Train Epoch: 1 [30080/60000 (50%)]\tLoss: 0.156235\n",
      "Train Epoch: 1 [30720/60000 (51%)]\tLoss: 0.178415\n",
      "Train Epoch: 1 [31360/60000 (52%)]\tLoss: 0.100220\n",
      "Train Epoch: 1 [32000/60000 (53%)]\tLoss: 0.174166\n",
      "Train Epoch: 1 [32640/60000 (54%)]\tLoss: 0.189956\n",
      "Train Epoch: 1 [33280/60000 (55%)]\tLoss: 0.174923\n",
      "Train Epoch: 1 [33920/60000 (57%)]\tLoss: 0.119896\n",
      "Train Epoch: 1 [34560/60000 (58%)]\tLoss: 0.163612\n",
      "Train Epoch: 1 [35200/60000 (59%)]\tLoss: 0.330131\n",
      "Train Epoch: 1 [35840/60000 (60%)]\tLoss: 0.101429\n",
      "Train Epoch: 1 [36480/60000 (61%)]\tLoss: 0.282336\n",
      "Train Epoch: 1 [37120/60000 (62%)]\tLoss: 0.154099\n",
      "Train Epoch: 1 [37760/60000 (63%)]\tLoss: 0.337766\n",
      "Train Epoch: 1 [38400/60000 (64%)]\tLoss: 0.134036\n",
      "Train Epoch: 1 [39040/60000 (65%)]\tLoss: 0.104316\n",
      "Train Epoch: 1 [39680/60000 (66%)]\tLoss: 0.303246\n",
      "Train Epoch: 1 [40320/60000 (67%)]\tLoss: 0.092225\n",
      "Train Epoch: 1 [40960/60000 (68%)]\tLoss: 0.329863\n",
      "Train Epoch: 1 [41600/60000 (69%)]\tLoss: 0.195332\n",
      "Train Epoch: 1 [42240/60000 (70%)]\tLoss: 0.189361\n",
      "Train Epoch: 1 [42880/60000 (71%)]\tLoss: 0.226893\n",
      "Train Epoch: 1 [43520/60000 (72%)]\tLoss: 0.410320\n",
      "Train Epoch: 1 [44160/60000 (74%)]\tLoss: 0.284723\n",
      "Train Epoch: 1 [44800/60000 (75%)]\tLoss: 0.151162\n",
      "Train Epoch: 1 [45440/60000 (76%)]\tLoss: 0.150781\n",
      "Train Epoch: 1 [46080/60000 (77%)]\tLoss: 0.337227\n",
      "Train Epoch: 1 [46720/60000 (78%)]\tLoss: 0.162638\n",
      "Train Epoch: 1 [47360/60000 (79%)]\tLoss: 0.213824\n",
      "Train Epoch: 1 [48000/60000 (80%)]\tLoss: 0.287173\n",
      "Train Epoch: 1 [48640/60000 (81%)]\tLoss: 0.498787\n",
      "Train Epoch: 1 [49280/60000 (82%)]\tLoss: 0.293110\n",
      "Train Epoch: 1 [49920/60000 (83%)]\tLoss: 0.248048\n",
      "Train Epoch: 1 [50560/60000 (84%)]\tLoss: 0.316838\n",
      "Train Epoch: 1 [51200/60000 (85%)]\tLoss: 0.256451\n",
      "Train Epoch: 1 [51840/60000 (86%)]\tLoss: 0.135158\n",
      "Train Epoch: 1 [52480/60000 (87%)]\tLoss: 0.192818\n",
      "Train Epoch: 1 [53120/60000 (88%)]\tLoss: 0.394381\n",
      "Train Epoch: 1 [53760/60000 (90%)]\tLoss: 0.236701\n",
      "Train Epoch: 1 [54400/60000 (91%)]\tLoss: 0.140695\n",
      "Train Epoch: 1 [55040/60000 (92%)]\tLoss: 0.275428\n",
      "Train Epoch: 1 [55680/60000 (93%)]\tLoss: 0.439932\n",
      "Train Epoch: 1 [56320/60000 (94%)]\tLoss: 0.149366\n",
      "Train Epoch: 1 [56960/60000 (95%)]\tLoss: 0.128115\n",
      "Train Epoch: 1 [57600/60000 (96%)]\tLoss: 0.131223\n",
      "Train Epoch: 1 [58240/60000 (97%)]\tLoss: 0.220754\n",
      "Train Epoch: 1 [58880/60000 (98%)]\tLoss: 0.093178\n",
      "Train Epoch: 1 [59520/60000 (99%)]\tLoss: 0.579178\n",
      "\n",
      "Test set: Avg. loss: 0.0596, Accuracy: 9809/10000 (98%)\n",
      "\n",
      "Train Epoch: 2 [0/60000 (0%)]\tLoss: 0.318181\n",
      "Train Epoch: 2 [640/60000 (1%)]\tLoss: 0.250287\n",
      "Train Epoch: 2 [1280/60000 (2%)]\tLoss: 0.059033\n",
      "Train Epoch: 2 [1920/60000 (3%)]\tLoss: 0.200509\n",
      "Train Epoch: 2 [2560/60000 (4%)]\tLoss: 0.161711\n",
      "Train Epoch: 2 [3200/60000 (5%)]\tLoss: 0.366238\n",
      "Train Epoch: 2 [3840/60000 (6%)]\tLoss: 0.222194\n",
      "Train Epoch: 2 [4480/60000 (7%)]\tLoss: 0.298014\n",
      "Train Epoch: 2 [5120/60000 (9%)]\tLoss: 0.174364\n",
      "Train Epoch: 2 [5760/60000 (10%)]\tLoss: 0.251461\n",
      "Train Epoch: 2 [6400/60000 (11%)]\tLoss: 0.174890\n",
      "Train Epoch: 2 [7040/60000 (12%)]\tLoss: 0.199279\n",
      "Train Epoch: 2 [7680/60000 (13%)]\tLoss: 0.065229\n",
      "Train Epoch: 2 [8320/60000 (14%)]\tLoss: 0.175915\n",
      "Train Epoch: 2 [8960/60000 (15%)]\tLoss: 0.202064\n",
      "Train Epoch: 2 [9600/60000 (16%)]\tLoss: 0.461699\n",
      "Train Epoch: 2 [10240/60000 (17%)]\tLoss: 0.167134\n",
      "Train Epoch: 2 [10880/60000 (18%)]\tLoss: 0.097030\n",
      "Train Epoch: 2 [11520/60000 (19%)]\tLoss: 0.206992\n",
      "Train Epoch: 2 [12160/60000 (20%)]\tLoss: 0.109413\n",
      "Train Epoch: 2 [12800/60000 (21%)]\tLoss: 0.128193\n",
      "Train Epoch: 2 [13440/60000 (22%)]\tLoss: 0.088068\n",
      "Train Epoch: 2 [14080/60000 (23%)]\tLoss: 0.220919\n",
      "Train Epoch: 2 [14720/60000 (25%)]\tLoss: 0.306582\n",
      "Train Epoch: 2 [15360/60000 (26%)]\tLoss: 0.129618\n",
      "Train Epoch: 2 [16000/60000 (27%)]\tLoss: 0.077796\n",
      "Train Epoch: 2 [16640/60000 (28%)]\tLoss: 0.129159\n",
      "Train Epoch: 2 [17280/60000 (29%)]\tLoss: 0.226905\n",
      "Train Epoch: 2 [17920/60000 (30%)]\tLoss: 0.136350\n",
      "Train Epoch: 2 [18560/60000 (31%)]\tLoss: 0.158932\n",
      "Train Epoch: 2 [19200/60000 (32%)]\tLoss: 0.101433\n",
      "Train Epoch: 2 [19840/60000 (33%)]\tLoss: 0.192770\n",
      "Train Epoch: 2 [20480/60000 (34%)]\tLoss: 0.227635\n",
      "Train Epoch: 2 [21120/60000 (35%)]\tLoss: 0.388717\n",
      "Train Epoch: 2 [21760/60000 (36%)]\tLoss: 0.119594\n",
      "Train Epoch: 2 [22400/60000 (37%)]\tLoss: 0.106299\n",
      "Train Epoch: 2 [23040/60000 (38%)]\tLoss: 0.034601\n",
      "Train Epoch: 2 [23680/60000 (39%)]\tLoss: 0.291958\n",
      "Train Epoch: 2 [24320/60000 (41%)]\tLoss: 0.154534\n",
      "Train Epoch: 2 [24960/60000 (42%)]\tLoss: 0.304126\n",
      "Train Epoch: 2 [25600/60000 (43%)]\tLoss: 0.089320\n",
      "Train Epoch: 2 [26240/60000 (44%)]\tLoss: 0.499573\n",
      "Train Epoch: 2 [26880/60000 (45%)]\tLoss: 0.114687\n",
      "Train Epoch: 2 [27520/60000 (46%)]\tLoss: 0.215530\n",
      "Train Epoch: 2 [28160/60000 (47%)]\tLoss: 0.057717\n",
      "Train Epoch: 2 [28800/60000 (48%)]\tLoss: 0.067421\n",
      "Train Epoch: 2 [29440/60000 (49%)]\tLoss: 0.207829\n",
      "Train Epoch: 2 [30080/60000 (50%)]\tLoss: 0.295757\n",
      "Train Epoch: 2 [30720/60000 (51%)]\tLoss: 0.167364\n",
      "Train Epoch: 2 [31360/60000 (52%)]\tLoss: 0.206174\n",
      "Train Epoch: 2 [32000/60000 (53%)]\tLoss: 0.135647\n",
      "Train Epoch: 2 [32640/60000 (54%)]\tLoss: 0.078704\n",
      "Train Epoch: 2 [33280/60000 (55%)]\tLoss: 0.190129\n",
      "Train Epoch: 2 [33920/60000 (57%)]\tLoss: 0.194103\n",
      "Train Epoch: 2 [34560/60000 (58%)]\tLoss: 0.355469\n",
      "Train Epoch: 2 [35200/60000 (59%)]\tLoss: 0.136443\n",
      "Train Epoch: 2 [35840/60000 (60%)]\tLoss: 0.236372\n",
      "Train Epoch: 2 [36480/60000 (61%)]\tLoss: 0.078669\n",
      "Train Epoch: 2 [37120/60000 (62%)]\tLoss: 0.232776\n",
      "Train Epoch: 2 [37760/60000 (63%)]\tLoss: 0.312141\n",
      "Train Epoch: 2 [38400/60000 (64%)]\tLoss: 0.107776\n",
      "Train Epoch: 2 [39040/60000 (65%)]\tLoss: 0.159712\n",
      "Train Epoch: 2 [39680/60000 (66%)]\tLoss: 0.412564\n",
      "Train Epoch: 2 [40320/60000 (67%)]\tLoss: 0.230589\n",
      "Train Epoch: 2 [40960/60000 (68%)]\tLoss: 0.393077\n",
      "Train Epoch: 2 [41600/60000 (69%)]\tLoss: 0.297767\n",
      "Train Epoch: 2 [42240/60000 (70%)]\tLoss: 0.266815\n",
      "Train Epoch: 2 [42880/60000 (71%)]\tLoss: 0.265851\n",
      "Train Epoch: 2 [43520/60000 (72%)]\tLoss: 0.236002\n",
      "Train Epoch: 2 [44160/60000 (74%)]\tLoss: 0.224234\n",
      "Train Epoch: 2 [44800/60000 (75%)]\tLoss: 0.248549\n",
      "Train Epoch: 2 [45440/60000 (76%)]\tLoss: 0.105081\n",
      "Train Epoch: 2 [46080/60000 (77%)]\tLoss: 0.192348\n",
      "Train Epoch: 2 [46720/60000 (78%)]\tLoss: 0.161122\n",
      "Train Epoch: 2 [47360/60000 (79%)]\tLoss: 0.220985\n",
      "Train Epoch: 2 [48000/60000 (80%)]\tLoss: 0.383482\n",
      "Train Epoch: 2 [48640/60000 (81%)]\tLoss: 0.122979\n",
      "Train Epoch: 2 [49280/60000 (82%)]\tLoss: 0.133670\n",
      "Train Epoch: 2 [49920/60000 (83%)]\tLoss: 0.252477\n",
      "Train Epoch: 2 [50560/60000 (84%)]\tLoss: 0.147470\n",
      "Train Epoch: 2 [51200/60000 (85%)]\tLoss: 0.163261\n",
      "Train Epoch: 2 [51840/60000 (86%)]\tLoss: 0.214085\n",
      "Train Epoch: 2 [52480/60000 (87%)]\tLoss: 0.167672\n",
      "Train Epoch: 2 [53120/60000 (88%)]\tLoss: 0.198515\n",
      "Train Epoch: 2 [53760/60000 (90%)]\tLoss: 0.307103\n",
      "Train Epoch: 2 [54400/60000 (91%)]\tLoss: 0.208566\n",
      "Train Epoch: 2 [55040/60000 (92%)]\tLoss: 0.058458\n",
      "Train Epoch: 2 [55680/60000 (93%)]\tLoss: 0.212028\n",
      "Train Epoch: 2 [56320/60000 (94%)]\tLoss: 0.545897\n",
      "Train Epoch: 2 [56960/60000 (95%)]\tLoss: 0.212807\n",
      "Train Epoch: 2 [57600/60000 (96%)]\tLoss: 0.427055\n",
      "Train Epoch: 2 [58240/60000 (97%)]\tLoss: 0.088466\n",
      "Train Epoch: 2 [58880/60000 (98%)]\tLoss: 0.274658\n",
      "Train Epoch: 2 [59520/60000 (99%)]\tLoss: 0.258748\n",
      "\n",
      "Test set: Avg. loss: 0.0604, Accuracy: 9812/10000 (98%)\n",
      "\n",
      "Train Epoch: 3 [0/60000 (0%)]\tLoss: 0.327005\n",
      "Train Epoch: 3 [640/60000 (1%)]\tLoss: 0.125099\n",
      "Train Epoch: 3 [1280/60000 (2%)]\tLoss: 0.143011\n",
      "Train Epoch: 3 [1920/60000 (3%)]\tLoss: 0.113364\n",
      "Train Epoch: 3 [2560/60000 (4%)]\tLoss: 0.182093\n",
      "Train Epoch: 3 [3200/60000 (5%)]\tLoss: 0.259591\n",
      "Train Epoch: 3 [3840/60000 (6%)]\tLoss: 0.382417\n",
      "Train Epoch: 3 [4480/60000 (7%)]\tLoss: 0.224210\n",
      "Train Epoch: 3 [5120/60000 (9%)]\tLoss: 0.119447\n",
      "Train Epoch: 3 [5760/60000 (10%)]\tLoss: 0.307949\n",
      "Train Epoch: 3 [6400/60000 (11%)]\tLoss: 0.161502\n",
      "Train Epoch: 3 [7040/60000 (12%)]\tLoss: 0.114873\n",
      "Train Epoch: 3 [7680/60000 (13%)]\tLoss: 0.130100\n",
      "Train Epoch: 3 [8320/60000 (14%)]\tLoss: 0.276416\n",
      "Train Epoch: 3 [8960/60000 (15%)]\tLoss: 0.208444\n",
      "Train Epoch: 3 [9600/60000 (16%)]\tLoss: 0.291213\n",
      "Train Epoch: 3 [10240/60000 (17%)]\tLoss: 0.356247\n",
      "Train Epoch: 3 [10880/60000 (18%)]\tLoss: 0.261376\n",
      "Train Epoch: 3 [11520/60000 (19%)]\tLoss: 0.081993\n",
      "Train Epoch: 3 [12160/60000 (20%)]\tLoss: 0.189816\n",
      "Train Epoch: 3 [12800/60000 (21%)]\tLoss: 0.176989\n",
      "Train Epoch: 3 [13440/60000 (22%)]\tLoss: 0.255866\n",
      "Train Epoch: 3 [14080/60000 (23%)]\tLoss: 0.102614\n",
      "Train Epoch: 3 [14720/60000 (25%)]\tLoss: 0.199858\n",
      "Train Epoch: 3 [15360/60000 (26%)]\tLoss: 0.253812\n",
      "Train Epoch: 3 [16000/60000 (27%)]\tLoss: 0.461807\n",
      "Train Epoch: 3 [16640/60000 (28%)]\tLoss: 0.195740\n",
      "Train Epoch: 3 [17280/60000 (29%)]\tLoss: 0.339519\n",
      "Train Epoch: 3 [17920/60000 (30%)]\tLoss: 0.050984\n",
      "Train Epoch: 3 [18560/60000 (31%)]\tLoss: 0.163153\n",
      "Train Epoch: 3 [19200/60000 (32%)]\tLoss: 0.240700\n",
      "Train Epoch: 3 [19840/60000 (33%)]\tLoss: 0.260436\n",
      "Train Epoch: 3 [20480/60000 (34%)]\tLoss: 0.115989\n",
      "Train Epoch: 3 [21120/60000 (35%)]\tLoss: 0.193153\n",
      "Train Epoch: 3 [21760/60000 (36%)]\tLoss: 0.312330\n",
      "Train Epoch: 3 [22400/60000 (37%)]\tLoss: 0.134594\n",
      "Train Epoch: 3 [23040/60000 (38%)]\tLoss: 0.191669\n",
      "Train Epoch: 3 [23680/60000 (39%)]\tLoss: 0.129899\n",
      "Train Epoch: 3 [24320/60000 (41%)]\tLoss: 0.294906\n",
      "Train Epoch: 3 [24960/60000 (42%)]\tLoss: 0.077826\n",
      "Train Epoch: 3 [25600/60000 (43%)]\tLoss: 0.300346\n",
      "Train Epoch: 3 [26240/60000 (44%)]\tLoss: 0.175084\n",
      "Train Epoch: 3 [26880/60000 (45%)]\tLoss: 0.154936\n",
      "Train Epoch: 3 [27520/60000 (46%)]\tLoss: 0.110509\n",
      "Train Epoch: 3 [28160/60000 (47%)]\tLoss: 0.126397\n",
      "Train Epoch: 3 [28800/60000 (48%)]\tLoss: 0.241483\n",
      "Train Epoch: 3 [29440/60000 (49%)]\tLoss: 0.230752\n",
      "Train Epoch: 3 [30080/60000 (50%)]\tLoss: 0.198710\n",
      "Train Epoch: 3 [30720/60000 (51%)]\tLoss: 0.124784\n",
      "Train Epoch: 3 [31360/60000 (52%)]\tLoss: 0.282963\n",
      "Train Epoch: 3 [32000/60000 (53%)]\tLoss: 0.168217\n",
      "Train Epoch: 3 [32640/60000 (54%)]\tLoss: 0.158146\n",
      "Train Epoch: 3 [33280/60000 (55%)]\tLoss: 0.287243\n",
      "Train Epoch: 3 [33920/60000 (57%)]\tLoss: 0.266247\n",
      "Train Epoch: 3 [34560/60000 (58%)]\tLoss: 0.075747\n",
      "Train Epoch: 3 [35200/60000 (59%)]\tLoss: 0.210505\n",
      "Train Epoch: 3 [35840/60000 (60%)]\tLoss: 0.182590\n",
      "Train Epoch: 3 [36480/60000 (61%)]\tLoss: 0.140923\n",
      "Train Epoch: 3 [37120/60000 (62%)]\tLoss: 0.349270\n",
      "Train Epoch: 3 [37760/60000 (63%)]\tLoss: 0.165116\n",
      "Train Epoch: 3 [38400/60000 (64%)]\tLoss: 0.479240\n",
      "Train Epoch: 3 [39040/60000 (65%)]\tLoss: 0.283916\n",
      "Train Epoch: 3 [39680/60000 (66%)]\tLoss: 0.246795\n",
      "Train Epoch: 3 [40320/60000 (67%)]\tLoss: 0.268695\n",
      "Train Epoch: 3 [40960/60000 (68%)]\tLoss: 0.165352\n",
      "Train Epoch: 3 [41600/60000 (69%)]\tLoss: 0.106307\n",
      "Train Epoch: 3 [42240/60000 (70%)]\tLoss: 0.104380\n",
      "Train Epoch: 3 [42880/60000 (71%)]\tLoss: 0.193950\n",
      "Train Epoch: 3 [43520/60000 (72%)]\tLoss: 0.388622\n",
      "Train Epoch: 3 [44160/60000 (74%)]\tLoss: 0.248427\n",
      "Train Epoch: 3 [44800/60000 (75%)]\tLoss: 0.348588\n",
      "Train Epoch: 3 [45440/60000 (76%)]\tLoss: 0.137738\n",
      "Train Epoch: 3 [46080/60000 (77%)]\tLoss: 0.060985\n",
      "Train Epoch: 3 [46720/60000 (78%)]\tLoss: 0.439137\n",
      "Train Epoch: 3 [47360/60000 (79%)]\tLoss: 0.160380\n",
      "Train Epoch: 3 [48000/60000 (80%)]\tLoss: 0.117948\n",
      "Train Epoch: 3 [48640/60000 (81%)]\tLoss: 0.189988\n",
      "Train Epoch: 3 [49280/60000 (82%)]\tLoss: 0.181045\n",
      "Train Epoch: 3 [49920/60000 (83%)]\tLoss: 0.264514\n",
      "Train Epoch: 3 [50560/60000 (84%)]\tLoss: 0.231890\n",
      "Train Epoch: 3 [51200/60000 (85%)]\tLoss: 0.176806\n",
      "Train Epoch: 3 [51840/60000 (86%)]\tLoss: 0.267747\n",
      "Train Epoch: 3 [52480/60000 (87%)]\tLoss: 0.132036\n",
      "Train Epoch: 3 [53120/60000 (88%)]\tLoss: 0.139666\n",
      "Train Epoch: 3 [53760/60000 (90%)]\tLoss: 0.264941\n",
      "Train Epoch: 3 [54400/60000 (91%)]\tLoss: 0.116993\n",
      "Train Epoch: 3 [55040/60000 (92%)]\tLoss: 0.648641\n",
      "Train Epoch: 3 [55680/60000 (93%)]\tLoss: 0.116276\n",
      "Train Epoch: 3 [56320/60000 (94%)]\tLoss: 0.166033\n",
      "Train Epoch: 3 [56960/60000 (95%)]\tLoss: 0.242108\n",
      "Train Epoch: 3 [57600/60000 (96%)]\tLoss: 0.171286\n",
      "Train Epoch: 3 [58240/60000 (97%)]\tLoss: 0.094202\n",
      "Train Epoch: 3 [58880/60000 (98%)]\tLoss: 0.067898\n",
      "Train Epoch: 3 [59520/60000 (99%)]\tLoss: 0.170140\n",
      "\n",
      "Test set: Avg. loss: 0.0568, Accuracy: 9839/10000 (98%)\n",
      "\n"
     ]
    },
    {
     "ename": "AttributeError",
     "evalue": "'Net' object has no attribute 'save'",
     "output_type": "error",
     "traceback": [
      "\u001b[1;31m---------------------------------------------------------------------------\u001b[0m",
      "\u001b[1;31mAttributeError\u001b[0m                            Traceback (most recent call last)",
      "\u001b[1;32mc:\\Users\\larsr\\Documents\\Repos\\Sudokai\\2_detect.ipynb Cell 13\u001b[0m in \u001b[0;36m<cell line: 5>\u001b[1;34m()\u001b[0m\n\u001b[0;32m      <a href='vscode-notebook-cell:/c%3A/Users/larsr/Documents/Repos/Sudokai/2_detect.ipynb#X15sZmlsZQ%3D%3D?line=2'>3</a>\u001b[0m   train(epoch)\n\u001b[0;32m      <a href='vscode-notebook-cell:/c%3A/Users/larsr/Documents/Repos/Sudokai/2_detect.ipynb#X15sZmlsZQ%3D%3D?line=3'>4</a>\u001b[0m   test()\n\u001b[1;32m----> <a href='vscode-notebook-cell:/c%3A/Users/larsr/Documents/Repos/Sudokai/2_detect.ipynb#X15sZmlsZQ%3D%3D?line=4'>5</a>\u001b[0m network\u001b[39m.\u001b[39;49msave(\u001b[39m'\u001b[39m\u001b[39mresult/digits.model\u001b[39m\u001b[39m'\u001b[39m)\n",
      "File \u001b[1;32mc:\\Users\\larsr\\AppData\\Local\\Programs\\Python\\Python310\\lib\\site-packages\\torch\\nn\\modules\\module.py:1265\u001b[0m, in \u001b[0;36mModule.__getattr__\u001b[1;34m(self, name)\u001b[0m\n\u001b[0;32m   1263\u001b[0m     \u001b[39mif\u001b[39;00m name \u001b[39min\u001b[39;00m modules:\n\u001b[0;32m   1264\u001b[0m         \u001b[39mreturn\u001b[39;00m modules[name]\n\u001b[1;32m-> 1265\u001b[0m \u001b[39mraise\u001b[39;00m \u001b[39mAttributeError\u001b[39;00m(\u001b[39m\"\u001b[39m\u001b[39m'\u001b[39m\u001b[39m{}\u001b[39;00m\u001b[39m'\u001b[39m\u001b[39m object has no attribute \u001b[39m\u001b[39m'\u001b[39m\u001b[39m{}\u001b[39;00m\u001b[39m'\u001b[39m\u001b[39m\"\u001b[39m\u001b[39m.\u001b[39mformat(\n\u001b[0;32m   1266\u001b[0m     \u001b[39mtype\u001b[39m(\u001b[39mself\u001b[39m)\u001b[39m.\u001b[39m\u001b[39m__name__\u001b[39m, name))\n",
      "\u001b[1;31mAttributeError\u001b[0m: 'Net' object has no attribute 'save'"
     ]
    }
   ],
   "source": [
    "test()\n",
    "for epoch in range(1, n_epochs + 1):\n",
    "  train(epoch)\n",
    "  test()"
   ]
  },
  {
   "cell_type": "code",
   "execution_count": 19,
   "metadata": {},
   "outputs": [
    {
     "name": "stderr",
     "output_type": "stream",
     "text": [
      "C:\\Users\\larsr\\AppData\\Local\\Temp\\ipykernel_22216\\161431047.py:17: UserWarning: Implicit dimension choice for log_softmax has been deprecated. Change the call to include dim=X as an argument.\n",
      "  return F.log_softmax(x)\n"
     ]
    }
   ],
   "source": [
    "with torch.no_grad():\n",
    "  output = network(example_data)"
   ]
  },
  {
   "cell_type": "code",
   "execution_count": 20,
   "metadata": {},
   "outputs": [
    {
     "data": {
      "image/png": "[encoded data removed]",
      "text/plain": [
       "<Figure size 432x288 with 6 Axes>"
      ]
     },
     "execution_count": 20,
     "metadata": {},
     "output_type": "execute_result"
    },
    {
     "data": {
      "image/png": "[encoded data removed]",
      "text/plain": [
       "<Figure size 432x288 with 6 Axes>"
      ]
     },
     "metadata": {},
     "output_type": "display_data"
    }
   ],
   "source": [
    "fig = plt.figure()\n",
    "for i in range(6):\n",
    "  plt.subplot(2,3,i+1)\n",
    "  plt.tight_layout()\n",
    "  plt.imshow(example_data[i][0], cmap='gray', interpolation='none')\n",
    "  plt.title(\"Prediction: {}\".format(\n",
    "    output.data.max(1, keepdim=True)[1][i].item()))\n",
    "  plt.xticks([])\n",
    "  plt.yticks([])\n",
    "fig"
   ]
  },
  {
   "cell_type": "code",
   "execution_count": 25,
   "metadata": {},
   "outputs": [
    {
     "data": {
      "text/plain": [
       "Net(\n",
       "  (conv1): Conv2d(1, 10, kernel_size=(5, 5), stride=(1, 1))\n",
       "  (conv2): Conv2d(10, 20, kernel_size=(5, 5), stride=(1, 1))\n",
       "  (conv2_drop): Dropout2d(p=0.5, inplace=False)\n",
       "  (fc1): Linear(in_features=320, out_features=50, bias=True)\n",
       "  (fc2): Linear(in_features=50, out_features=10, bias=True)\n",
       ")"
      ]
     },
     "execution_count": 25,
     "metadata": {},
     "output_type": "execute_result"
    }
   ],
   "source": [
    "# Load model\n",
    "\n",
    "import torch\n",
    "from PIL import Image\n",
    "\n",
    "predicter = Net()\n",
    "network_state_dict = torch.load('results/model.pth')\n",
    "predicter.load_state_dict(network_state_dict)\n",
    "\n",
    "\n",
    "image = Image.open('puzzles/2/cell_04.png')\n",
    "input = \n",
    "\n"
   ]
  }
 ],
 "metadata": {
  "kernelspec": {
   "display_name": "Python 3",
   "language": "python",
   "name": "python3"
  },
  "language_info": {
   "codemirror_mode": {
    "name": "ipython",
    "version": 3
   },
   "file_extension": ".py",
   "mimetype": "text/x-python",
   "name": "python",
   "nbconvert_exporter": "python",
   "pygments_lexer": "ipython3",
   "version": "3.10.2"
  },
  "orig_nbformat": 4,
  "vscode": {
   "interpreter": {
    "hash": "548a0a09b983f98ae10fe39c72318df72fb5b971c63cac55400ed8db40b980bf"
   }
  }
 },
 "nbformat": 4,
 "nbformat_minor": 2
}
